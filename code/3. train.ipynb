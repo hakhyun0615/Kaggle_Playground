{
 "cells": [
  {
   "cell_type": "code",
   "execution_count": 6,
   "metadata": {},
   "outputs": [],
   "source": [
    "import numpy as np\n",
    "import pandas as pd\n",
    "\n",
    "import joblib\n",
    "import optuna\n",
    "import lightgbm as lgb\n",
    "import xgboost as xgb\n",
    "import catboost as cb\n",
    "from sklearn.model_selection import train_test_split, cross_val_score\n",
    "from sklearn.metrics import roc_auc_score\n",
    "\n",
    "SEED = 578\n",
    "np.random.seed(SEED)"
   ]
  },
  {
   "cell_type": "code",
   "execution_count": 8,
   "metadata": {},
   "outputs": [
    {
     "ename": "FileNotFoundError",
     "evalue": "[Errno 2] No such file or directory: '../data/train.csv'",
     "output_type": "error",
     "traceback": [
      "\u001b[0;31m---------------------------------------------------------------------------\u001b[0m",
      "\u001b[0;31mFileNotFoundError\u001b[0m                         Traceback (most recent call last)",
      "\u001b[1;32m/Users/kimhakhyun/Desktop/Git/kaggle_playground/Kaggle_Playground/code/3. train.ipynb 셀 2\u001b[0m line \u001b[0;36m<cell line: 0>\u001b[0;34m()\u001b[0m\n\u001b[0;32m----> <a href='vscode-notebook-cell:/Users/kimhakhyun/Desktop/Git/kaggle_playground/Kaggle_Playground/code/3.%20train.ipynb#W1sZmlsZQ%3D%3D?line=0'>1</a>\u001b[0m train_df \u001b[39m=\u001b[39m pd\u001b[39m.\u001b[39mread_csv(\u001b[39m'\u001b[39m\u001b[39m../data/train.csv\u001b[39m\u001b[39m'\u001b[39m, index_col\u001b[39m=\u001b[39m\u001b[39m0\u001b[39m)\n\u001b[1;32m      <a href='vscode-notebook-cell:/Users/kimhakhyun/Desktop/Git/kaggle_playground/Kaggle_Playground/code/3.%20train.ipynb#W1sZmlsZQ%3D%3D?line=1'>2</a>\u001b[0m test_df \u001b[39m=\u001b[39m pd\u001b[39m.\u001b[39mread_csv(\u001b[39m'\u001b[39m\u001b[39m../data/test.csv\u001b[39m\u001b[39m'\u001b[39m, index_col\u001b[39m=\u001b[39m\u001b[39m0\u001b[39m)\n",
      "File \u001b[0;32m/Library/Frameworks/Python.framework/Versions/3.11/lib/python3.11/site-packages/pandas/util/_decorators.py:311\u001b[0m, in \u001b[0;36mdeprecate_nonkeyword_arguments.<locals>.decorate.<locals>.wrapper\u001b[0;34m(*args, **kwargs)\u001b[0m\n\u001b[1;32m    305\u001b[0m \u001b[39mif\u001b[39;00m \u001b[39mlen\u001b[39m(args) \u001b[39m>\u001b[39m num_allow_args:\n\u001b[1;32m    306\u001b[0m     warnings\u001b[39m.\u001b[39mwarn(\n\u001b[1;32m    307\u001b[0m         msg\u001b[39m.\u001b[39mformat(arguments\u001b[39m=\u001b[39marguments),\n\u001b[1;32m    308\u001b[0m         \u001b[39mFutureWarning\u001b[39;00m,\n\u001b[1;32m    309\u001b[0m         stacklevel\u001b[39m=\u001b[39mstacklevel,\n\u001b[1;32m    310\u001b[0m     )\n\u001b[0;32m--> 311\u001b[0m \u001b[39mreturn\u001b[39;00m func(\u001b[39m*\u001b[39margs, \u001b[39m*\u001b[39m\u001b[39m*\u001b[39mkwargs)\n",
      "File \u001b[0;32m/Library/Frameworks/Python.framework/Versions/3.11/lib/python3.11/site-packages/pandas/io/parsers/readers.py:680\u001b[0m, in \u001b[0;36mread_csv\u001b[0;34m(filepath_or_buffer, sep, delimiter, header, names, index_col, usecols, squeeze, prefix, mangle_dupe_cols, dtype, engine, converters, true_values, false_values, skipinitialspace, skiprows, skipfooter, nrows, na_values, keep_default_na, na_filter, verbose, skip_blank_lines, parse_dates, infer_datetime_format, keep_date_col, date_parser, dayfirst, cache_dates, iterator, chunksize, compression, thousands, decimal, lineterminator, quotechar, quoting, doublequote, escapechar, comment, encoding, encoding_errors, dialect, error_bad_lines, warn_bad_lines, on_bad_lines, delim_whitespace, low_memory, memory_map, float_precision, storage_options)\u001b[0m\n\u001b[1;32m    665\u001b[0m kwds_defaults \u001b[39m=\u001b[39m _refine_defaults_read(\n\u001b[1;32m    666\u001b[0m     dialect,\n\u001b[1;32m    667\u001b[0m     delimiter,\n\u001b[0;32m   (...)\u001b[0m\n\u001b[1;32m    676\u001b[0m     defaults\u001b[39m=\u001b[39m{\u001b[39m\"\u001b[39m\u001b[39mdelimiter\u001b[39m\u001b[39m\"\u001b[39m: \u001b[39m\"\u001b[39m\u001b[39m,\u001b[39m\u001b[39m\"\u001b[39m},\n\u001b[1;32m    677\u001b[0m )\n\u001b[1;32m    678\u001b[0m kwds\u001b[39m.\u001b[39mupdate(kwds_defaults)\n\u001b[0;32m--> 680\u001b[0m \u001b[39mreturn\u001b[39;00m _read(filepath_or_buffer, kwds)\n",
      "File \u001b[0;32m/Library/Frameworks/Python.framework/Versions/3.11/lib/python3.11/site-packages/pandas/io/parsers/readers.py:575\u001b[0m, in \u001b[0;36m_read\u001b[0;34m(filepath_or_buffer, kwds)\u001b[0m\n\u001b[1;32m    572\u001b[0m _validate_names(kwds\u001b[39m.\u001b[39mget(\u001b[39m\"\u001b[39m\u001b[39mnames\u001b[39m\u001b[39m\"\u001b[39m, \u001b[39mNone\u001b[39;00m))\n\u001b[1;32m    574\u001b[0m \u001b[39m# Create the parser.\u001b[39;00m\n\u001b[0;32m--> 575\u001b[0m parser \u001b[39m=\u001b[39m TextFileReader(filepath_or_buffer, \u001b[39m*\u001b[39m\u001b[39m*\u001b[39mkwds)\n\u001b[1;32m    577\u001b[0m \u001b[39mif\u001b[39;00m chunksize \u001b[39mor\u001b[39;00m iterator:\n\u001b[1;32m    578\u001b[0m     \u001b[39mreturn\u001b[39;00m parser\n",
      "File \u001b[0;32m/Library/Frameworks/Python.framework/Versions/3.11/lib/python3.11/site-packages/pandas/io/parsers/readers.py:934\u001b[0m, in \u001b[0;36mTextFileReader.__init__\u001b[0;34m(self, f, engine, **kwds)\u001b[0m\n\u001b[1;32m    931\u001b[0m     \u001b[39mself\u001b[39m\u001b[39m.\u001b[39moptions[\u001b[39m\"\u001b[39m\u001b[39mhas_index_names\u001b[39m\u001b[39m\"\u001b[39m] \u001b[39m=\u001b[39m kwds[\u001b[39m\"\u001b[39m\u001b[39mhas_index_names\u001b[39m\u001b[39m\"\u001b[39m]\n\u001b[1;32m    933\u001b[0m \u001b[39mself\u001b[39m\u001b[39m.\u001b[39mhandles: IOHandles \u001b[39m|\u001b[39m \u001b[39mNone\u001b[39;00m \u001b[39m=\u001b[39m \u001b[39mNone\u001b[39;00m\n\u001b[0;32m--> 934\u001b[0m \u001b[39mself\u001b[39m\u001b[39m.\u001b[39m_engine \u001b[39m=\u001b[39m \u001b[39mself\u001b[39m\u001b[39m.\u001b[39m_make_engine(f, \u001b[39mself\u001b[39m\u001b[39m.\u001b[39mengine)\n",
      "File \u001b[0;32m/Library/Frameworks/Python.framework/Versions/3.11/lib/python3.11/site-packages/pandas/io/parsers/readers.py:1218\u001b[0m, in \u001b[0;36mTextFileReader._make_engine\u001b[0;34m(self, f, engine)\u001b[0m\n\u001b[1;32m   1214\u001b[0m     mode \u001b[39m=\u001b[39m \u001b[39m\"\u001b[39m\u001b[39mrb\u001b[39m\u001b[39m\"\u001b[39m\n\u001b[1;32m   1215\u001b[0m \u001b[39m# error: No overload variant of \"get_handle\" matches argument types\u001b[39;00m\n\u001b[1;32m   1216\u001b[0m \u001b[39m# \"Union[str, PathLike[str], ReadCsvBuffer[bytes], ReadCsvBuffer[str]]\"\u001b[39;00m\n\u001b[1;32m   1217\u001b[0m \u001b[39m# , \"str\", \"bool\", \"Any\", \"Any\", \"Any\", \"Any\", \"Any\"\u001b[39;00m\n\u001b[0;32m-> 1218\u001b[0m \u001b[39mself\u001b[39m\u001b[39m.\u001b[39mhandles \u001b[39m=\u001b[39m get_handle(  \u001b[39m# type: ignore[call-overload]\u001b[39;00m\n\u001b[1;32m   1219\u001b[0m     f,\n\u001b[1;32m   1220\u001b[0m     mode,\n\u001b[1;32m   1221\u001b[0m     encoding\u001b[39m=\u001b[39m\u001b[39mself\u001b[39m\u001b[39m.\u001b[39moptions\u001b[39m.\u001b[39mget(\u001b[39m\"\u001b[39m\u001b[39mencoding\u001b[39m\u001b[39m\"\u001b[39m, \u001b[39mNone\u001b[39;00m),\n\u001b[1;32m   1222\u001b[0m     compression\u001b[39m=\u001b[39m\u001b[39mself\u001b[39m\u001b[39m.\u001b[39moptions\u001b[39m.\u001b[39mget(\u001b[39m\"\u001b[39m\u001b[39mcompression\u001b[39m\u001b[39m\"\u001b[39m, \u001b[39mNone\u001b[39;00m),\n\u001b[1;32m   1223\u001b[0m     memory_map\u001b[39m=\u001b[39m\u001b[39mself\u001b[39m\u001b[39m.\u001b[39moptions\u001b[39m.\u001b[39mget(\u001b[39m\"\u001b[39m\u001b[39mmemory_map\u001b[39m\u001b[39m\"\u001b[39m, \u001b[39mFalse\u001b[39;00m),\n\u001b[1;32m   1224\u001b[0m     is_text\u001b[39m=\u001b[39mis_text,\n\u001b[1;32m   1225\u001b[0m     errors\u001b[39m=\u001b[39m\u001b[39mself\u001b[39m\u001b[39m.\u001b[39moptions\u001b[39m.\u001b[39mget(\u001b[39m\"\u001b[39m\u001b[39mencoding_errors\u001b[39m\u001b[39m\"\u001b[39m, \u001b[39m\"\u001b[39m\u001b[39mstrict\u001b[39m\u001b[39m\"\u001b[39m),\n\u001b[1;32m   1226\u001b[0m     storage_options\u001b[39m=\u001b[39m\u001b[39mself\u001b[39m\u001b[39m.\u001b[39moptions\u001b[39m.\u001b[39mget(\u001b[39m\"\u001b[39m\u001b[39mstorage_options\u001b[39m\u001b[39m\"\u001b[39m, \u001b[39mNone\u001b[39;00m),\n\u001b[1;32m   1227\u001b[0m )\n\u001b[1;32m   1228\u001b[0m \u001b[39massert\u001b[39;00m \u001b[39mself\u001b[39m\u001b[39m.\u001b[39mhandles \u001b[39mis\u001b[39;00m \u001b[39mnot\u001b[39;00m \u001b[39mNone\u001b[39;00m\n\u001b[1;32m   1229\u001b[0m f \u001b[39m=\u001b[39m \u001b[39mself\u001b[39m\u001b[39m.\u001b[39mhandles\u001b[39m.\u001b[39mhandle\n",
      "File \u001b[0;32m/Library/Frameworks/Python.framework/Versions/3.11/lib/python3.11/site-packages/pandas/io/common.py:786\u001b[0m, in \u001b[0;36mget_handle\u001b[0;34m(path_or_buf, mode, encoding, compression, memory_map, is_text, errors, storage_options)\u001b[0m\n\u001b[1;32m    781\u001b[0m \u001b[39melif\u001b[39;00m \u001b[39misinstance\u001b[39m(handle, \u001b[39mstr\u001b[39m):\n\u001b[1;32m    782\u001b[0m     \u001b[39m# Check whether the filename is to be opened in binary mode.\u001b[39;00m\n\u001b[1;32m    783\u001b[0m     \u001b[39m# Binary mode does not support 'encoding' and 'newline'.\u001b[39;00m\n\u001b[1;32m    784\u001b[0m     \u001b[39mif\u001b[39;00m ioargs\u001b[39m.\u001b[39mencoding \u001b[39mand\u001b[39;00m \u001b[39m\"\u001b[39m\u001b[39mb\u001b[39m\u001b[39m\"\u001b[39m \u001b[39mnot\u001b[39;00m \u001b[39min\u001b[39;00m ioargs\u001b[39m.\u001b[39mmode:\n\u001b[1;32m    785\u001b[0m         \u001b[39m# Encoding\u001b[39;00m\n\u001b[0;32m--> 786\u001b[0m         handle \u001b[39m=\u001b[39m \u001b[39mopen\u001b[39m(\n\u001b[1;32m    787\u001b[0m             handle,\n\u001b[1;32m    788\u001b[0m             ioargs\u001b[39m.\u001b[39mmode,\n\u001b[1;32m    789\u001b[0m             encoding\u001b[39m=\u001b[39mioargs\u001b[39m.\u001b[39mencoding,\n\u001b[1;32m    790\u001b[0m             errors\u001b[39m=\u001b[39merrors,\n\u001b[1;32m    791\u001b[0m             newline\u001b[39m=\u001b[39m\u001b[39m\"\u001b[39m\u001b[39m\"\u001b[39m,\n\u001b[1;32m    792\u001b[0m         )\n\u001b[1;32m    793\u001b[0m     \u001b[39melse\u001b[39;00m:\n\u001b[1;32m    794\u001b[0m         \u001b[39m# Binary mode\u001b[39;00m\n\u001b[1;32m    795\u001b[0m         handle \u001b[39m=\u001b[39m \u001b[39mopen\u001b[39m(handle, ioargs\u001b[39m.\u001b[39mmode)\n",
      "\u001b[0;31mFileNotFoundError\u001b[0m: [Errno 2] No such file or directory: '../data/train.csv'"
     ]
    }
   ],
   "source": [
    "train_df = pd.read_csv('../data/train.csv', index_col=0)\n",
    "test_df = pd.read_csv('../data/test.csv', index_col=0)"
   ]
  },
  {
   "cell_type": "markdown",
   "metadata": {},
   "source": [
    "# optuna hyperparameter optimization"
   ]
  },
  {
   "cell_type": "code",
   "execution_count": null,
   "metadata": {},
   "outputs": [],
   "source": [
    "def optimize_hyperparameters(objective, n_trials):\n",
    "    optuna.logging.set_verbosity(optuna.logging.CRITICAL)\n",
    "    study = optuna.create_study(direction = \"maximize\")\n",
    "    study.optimize(objective, n_trials=n_trials)\n",
    "    print(\"Total Trials:\", len(study.trials))\n",
    "    print(\"Best Score:\", study.best_value)\n",
    "    print(\"Best Parameters:\", study.best_params)\n",
    "    return study\n",
    "\n",
    "def plot_study(study):\n",
    "    optuna.visualization._get_intermediate_plot(study)\n",
    "    optuna.visualization._get_slice_plot(study)\n",
    "    optuna.visualization.plot_optimization_history(study)\n",
    "    optuna.visualization.plot_parallel_coordinate(study)\n",
    "    optuna.visualization.plot_contour(study)\n",
    "    optuna.visualization.plot_param_importances(study)"
   ]
  },
  {
   "cell_type": "markdown",
   "metadata": {},
   "source": [
    "## LightGBM"
   ]
  },
  {
   "cell_type": "code",
   "execution_count": null,
   "metadata": {},
   "outputs": [],
   "source": [
    "def lgbm_objective(trial):\n",
    "    hyperparams = {\n",
    "        'n_estimators' : trial.suggest_int('n_estimators',500,1000),\n",
    "        \"max_depth\":trial.suggest_int('max_depth',3,50),\n",
    "        \"learning_rate\" : trial.suggest_float('learning_rate',1e-4, 0.25, log=True),\n",
    "        \"min_child_weight\" : trial.suggest_float('min_child_weight', 0.5,4),\n",
    "        \"min_child_samples\" : trial.suggest_int('min_child_samples',1,250),\n",
    "        \"subsample\" : trial.suggest_float('subsample', 0.2, 1),\n",
    "        \"subsample_freq\" : trial.suggest_int('subsample_freq',0,5),\n",
    "        \"colsample_bytree\" : trial.suggest_float('colsample_bytree',0.2,1),\n",
    "        'num_leaves' : trial.suggest_int('num_leaves', 2, 128),\n",
    "    }\n",
    "    \n",
    "    X = train_df.drop(['smoking'], axis=1)\n",
    "    y = train_df['smoking']\n",
    "\n",
    "    lgbm_model = lgb.LGBMClassifier(**hyperparams, random_state=SEED)\n",
    "\n",
    "    # aucs = cross_val_score(lgbm_model, X, y, cv = 5, scoring='roc_auc')\n",
    "    # auc_mean = aucs.mean()\n",
    "\n",
    "    # print(\"AUCs:\", aucs)\n",
    "    # print(\"AUC Mean:\", auc_mean)\n",
    "\n",
    "    folds = joblib.load('../data/fold/5_stratifiedkfolds.jl')\n",
    "    fold_aucs = []\n",
    "\n",
    "    for fold, (train_index, val_index) in enumerate(folds):\n",
    "        print(f'Fold {fold} Training: ...\\n')\n",
    "        X_train, X_val = X.iloc[train_index], X.iloc[val_index]\n",
    "        y_train, y_val = y.iloc[train_index], y.iloc[val_index]\n",
    "\n",
    "        lgbm_model.fit(X_train, y_train)\n",
    "\n",
    "        y_pred = lgbm_model.predict_proba(X_val)[:,1]\n",
    "        \n",
    "        fold_auc = roc_auc_score(y_val, y_pred)\n",
    "        fold_aucs.append(fold_auc)\n",
    "\n",
    "    fold_auc_mean = sum(fold_aucs) / len(fold_aucs)\n",
    "\n",
    "    print(\"AUCs:\", fold_aucs)\n",
    "    print(\"AUC Mean:\", fold_auc_mean)\n",
    "\n",
    "    return fold_auc_mean"
   ]
  },
  {
   "cell_type": "code",
   "execution_count": null,
   "metadata": {},
   "outputs": [],
   "source": [
    "lgbm_study = optimize_hyperparameters(lgbm_objective, 10)"
   ]
  },
  {
   "cell_type": "code",
   "execution_count": null,
   "metadata": {},
   "outputs": [],
   "source": [
    "best_lgbm_hyperparams =  {\n",
    "    'n_estimators'          : 2048,\n",
    "    'max_depth'             : 9,\n",
    "    'learning_rate'         : 0.05,\n",
    "    'booster'               : 'gbtree',\n",
    "    'subsample'             : 0.75,\n",
    "    'colsample_bytree'      : 0.30,\n",
    "    'reg_lambda'            : 1.00,\n",
    "    'reg_alpha'             : 1.00,\n",
    "    'gamma'                 : 1.00,\n",
    "    'objective'             : 'binary:logistic',\n",
    "    'tree_method'           : 'hist',\n",
    "    'eval_metric'           : 'auc',\n",
    "    'n_jobs'                : -1\n",
    "}"
   ]
  },
  {
   "cell_type": "markdown",
   "metadata": {},
   "source": [
    "## XgBoost"
   ]
  },
  {
   "cell_type": "code",
   "execution_count": 3,
   "metadata": {},
   "outputs": [],
   "source": [
    "def xgb_objective(trial):\n",
    "    hyperparams = {\n",
    "        'n_estimators' : trial.suggest_int('n_estimators',500,750),\n",
    "        'max_depth':  trial.suggest_int('max_depth',3,50),\n",
    "        'min_child_weight': trial.suggest_float('min_child_weight', 2,50),\n",
    "        \"learning_rate\" : trial.suggest_float('learning_rate',1e-4, 0.2,log=True),\n",
    "        'subsample': trial.suggest_float('subsample', 0.2, 1),\n",
    "        'gamma': trial.suggest_float(\"gamma\", 1e-4, 1.0),\n",
    "        \"colsample_bytree\" : trial.suggest_float('colsample_bytree',0.2,1),\n",
    "        \"colsample_bylevel\" : trial.suggest_float('colsample_bylevel',0.2,1),\n",
    "        \"colsample_bynode\" : trial.suggest_float('colsample_bynode',0.2,1),\n",
    "    }\n",
    "\n",
    "    X = train_df.drop(['smoking'], axis=1)\n",
    "    y = train_df['smoking']\n",
    "\n",
    "    xgb_model = xgb.XGBClassifier(**hyperparams, random_state=SEED)\n",
    " \n",
    "    folds = joblib.load('../data/fold/5_stratifiedkfolds.jl')\n",
    "    fold_aucs = []\n",
    "\n",
    "    for fold, (train_index, val_index) in enumerate(folds):\n",
    "        print(f'Fold {fold} Training: ...\\n')\n",
    "        X_train, X_val = X.iloc[train_index], X.iloc[val_index]\n",
    "        y_train, y_val = y.iloc[train_index], y.iloc[val_index]\n",
    "\n",
    "        xgb_model.fit(X_train, y_train)\n",
    "        \n",
    "        y_pred = xgb_model.predict_proba(X_val)[:,1]\n",
    "        \n",
    "        fold_auc = roc_auc_score(y_val, y_pred)\n",
    "        fold_aucs.append(fold_auc)\n",
    "\n",
    "    fold_auc_mean = sum(fold_aucs) / len(fold_aucs)\n",
    "\n",
    "    print(\"AUCs:\", fold_aucs)\n",
    "    print(\"AUC Mean:\", fold_auc_mean)\n",
    "\n",
    "    return fold_auc_mean"
   ]
  },
  {
   "cell_type": "code",
   "execution_count": 4,
   "metadata": {},
   "outputs": [
    {
     "name": "stderr",
     "output_type": "stream",
     "text": [
      "/var/folders/xj/_swws2td1j333fqkjhr5tmjr0000gn/T/ipykernel_1638/83369294.py:4: FutureWarning: suggest_loguniform has been deprecated in v3.0.0. This feature will be removed in v6.0.0. See https://github.com/optuna/optuna/releases/tag/v3.0.0. Use suggest_float(..., log=True) instead.\n",
      "  \"lambda\": trial.suggest_loguniform(\"lambda\", 1e-8, 1.0),\n",
      "/var/folders/xj/_swws2td1j333fqkjhr5tmjr0000gn/T/ipykernel_1638/83369294.py:5: FutureWarning: suggest_loguniform has been deprecated in v3.0.0. This feature will be removed in v6.0.0. See https://github.com/optuna/optuna/releases/tag/v3.0.0. Use suggest_float(..., log=True) instead.\n",
      "  \"alpha\": trial.suggest_loguniform(\"alpha\", 1e-8, 1.0),\n",
      "/Library/Frameworks/Python.framework/Versions/3.11/lib/python3.11/site-packages/optuna/distributions.py:685: UserWarning: The distribution is specified by [0.01, 1.0] and step=0.1, but the range is not divisible by `step`. It will be replaced by [0.01, 0.91].\n",
      "  warnings.warn(\n",
      "/var/folders/xj/_swws2td1j333fqkjhr5tmjr0000gn/T/ipykernel_1638/83369294.py:11: FutureWarning: suggest_loguniform has been deprecated in v3.0.0. This feature will be removed in v6.0.0. See https://github.com/optuna/optuna/releases/tag/v3.0.0. Use suggest_float(..., log=True) instead.\n",
      "  \"gamma\": trial.suggest_loguniform(\"gamma\", 1e-8, 1.0),\n"
     ]
    },
    {
     "name": "stdout",
     "output_type": "stream",
     "text": [
      "Training Fold 1: ...\n",
      "\n"
     ]
    },
    {
     "ename": "KeyboardInterrupt",
     "evalue": "",
     "output_type": "error",
     "traceback": [
      "\u001b[0;31m---------------------------------------------------------------------------\u001b[0m",
      "\u001b[0;31mKeyboardInterrupt\u001b[0m                         Traceback (most recent call last)",
      "\u001b[1;32m/Users/kimhakhyun/Desktop/Git/kaggle_playground/Kaggle_Playground/code/train.ipynb 셀 5\u001b[0m line \u001b[0;36m<cell line: 0>\u001b[0;34m()\u001b[0m\n\u001b[0;32m----> <a href='vscode-notebook-cell:/Users/kimhakhyun/Desktop/Git/kaggle_playground/Kaggle_Playground/code/train.ipynb#W4sZmlsZQ%3D%3D?line=0'>1</a>\u001b[0m study \u001b[39m=\u001b[39m optimize_hyperparameters(xgb_objective, \u001b[39m10\u001b[39m)\n",
      "\u001b[1;32m/Users/kimhakhyun/Desktop/Git/kaggle_playground/Kaggle_Playground/code/train.ipynb 셀 5\u001b[0m line \u001b[0;36moptimize_hyperparameters\u001b[0;34m(objective, n_trials)\u001b[0m\n\u001b[1;32m     <a href='vscode-notebook-cell:/Users/kimhakhyun/Desktop/Git/kaggle_playground/Kaggle_Playground/code/train.ipynb#W4sZmlsZQ%3D%3D?line=59'>60</a>\u001b[0m optuna\u001b[39m.\u001b[39mlogging\u001b[39m.\u001b[39mset_verbosity(optuna\u001b[39m.\u001b[39mlogging\u001b[39m.\u001b[39mCRITICAL)\n\u001b[1;32m     <a href='vscode-notebook-cell:/Users/kimhakhyun/Desktop/Git/kaggle_playground/Kaggle_Playground/code/train.ipynb#W4sZmlsZQ%3D%3D?line=61'>62</a>\u001b[0m study \u001b[39m=\u001b[39m optuna\u001b[39m.\u001b[39mcreate_study(direction \u001b[39m=\u001b[39m \u001b[39m\"\u001b[39m\u001b[39mmaximize\u001b[39m\u001b[39m\"\u001b[39m)\n\u001b[0;32m---> <a href='vscode-notebook-cell:/Users/kimhakhyun/Desktop/Git/kaggle_playground/Kaggle_Playground/code/train.ipynb#W4sZmlsZQ%3D%3D?line=62'>63</a>\u001b[0m study\u001b[39m.\u001b[39moptimize(objective, n_trials\u001b[39m=\u001b[39mn_trials)\n\u001b[1;32m     <a href='vscode-notebook-cell:/Users/kimhakhyun/Desktop/Git/kaggle_playground/Kaggle_Playground/code/train.ipynb#W4sZmlsZQ%3D%3D?line=64'>65</a>\u001b[0m \u001b[39mprint\u001b[39m(\u001b[39m\"\u001b[39m\u001b[39mBest Score:\u001b[39m\u001b[39m\"\u001b[39m, study\u001b[39m.\u001b[39mbest_value)\n\u001b[1;32m     <a href='vscode-notebook-cell:/Users/kimhakhyun/Desktop/Git/kaggle_playground/Kaggle_Playground/code/train.ipynb#W4sZmlsZQ%3D%3D?line=65'>66</a>\u001b[0m \u001b[39mprint\u001b[39m(\u001b[39m\"\u001b[39m\u001b[39mBest Parameters:\u001b[39m\u001b[39m\"\u001b[39m, study\u001b[39m.\u001b[39mbest_params)\n",
      "File \u001b[0;32m/Library/Frameworks/Python.framework/Versions/3.11/lib/python3.11/site-packages/optuna/study/study.py:451\u001b[0m, in \u001b[0;36mStudy.optimize\u001b[0;34m(self, func, n_trials, timeout, n_jobs, catch, callbacks, gc_after_trial, show_progress_bar)\u001b[0m\n\u001b[1;32m    348\u001b[0m \u001b[39mdef\u001b[39;00m \u001b[39moptimize\u001b[39m(\n\u001b[1;32m    349\u001b[0m     \u001b[39mself\u001b[39m,\n\u001b[1;32m    350\u001b[0m     func: ObjectiveFuncType,\n\u001b[0;32m   (...)\u001b[0m\n\u001b[1;32m    357\u001b[0m     show_progress_bar: \u001b[39mbool\u001b[39m \u001b[39m=\u001b[39m \u001b[39mFalse\u001b[39;00m,\n\u001b[1;32m    358\u001b[0m ) \u001b[39m-\u001b[39m\u001b[39m>\u001b[39m \u001b[39mNone\u001b[39;00m:\n\u001b[1;32m    359\u001b[0m     \u001b[39m\"\"\"Optimize an objective function.\u001b[39;00m\n\u001b[1;32m    360\u001b[0m \n\u001b[1;32m    361\u001b[0m \u001b[39m    Optimization is done by choosing a suitable set of hyperparameter values from a given\u001b[39;00m\n\u001b[0;32m   (...)\u001b[0m\n\u001b[1;32m    449\u001b[0m \u001b[39m            If nested invocation of this method occurs.\u001b[39;00m\n\u001b[1;32m    450\u001b[0m \u001b[39m    \"\"\"\u001b[39;00m\n\u001b[0;32m--> 451\u001b[0m     _optimize(\n\u001b[1;32m    452\u001b[0m         study\u001b[39m=\u001b[39m\u001b[39mself\u001b[39m,\n\u001b[1;32m    453\u001b[0m         func\u001b[39m=\u001b[39mfunc,\n\u001b[1;32m    454\u001b[0m         n_trials\u001b[39m=\u001b[39mn_trials,\n\u001b[1;32m    455\u001b[0m         timeout\u001b[39m=\u001b[39mtimeout,\n\u001b[1;32m    456\u001b[0m         n_jobs\u001b[39m=\u001b[39mn_jobs,\n\u001b[1;32m    457\u001b[0m         catch\u001b[39m=\u001b[39m\u001b[39mtuple\u001b[39m(catch) \u001b[39mif\u001b[39;00m \u001b[39misinstance\u001b[39m(catch, Iterable) \u001b[39melse\u001b[39;00m (catch,),\n\u001b[1;32m    458\u001b[0m         callbacks\u001b[39m=\u001b[39mcallbacks,\n\u001b[1;32m    459\u001b[0m         gc_after_trial\u001b[39m=\u001b[39mgc_after_trial,\n\u001b[1;32m    460\u001b[0m         show_progress_bar\u001b[39m=\u001b[39mshow_progress_bar,\n\u001b[1;32m    461\u001b[0m     )\n",
      "File \u001b[0;32m/Library/Frameworks/Python.framework/Versions/3.11/lib/python3.11/site-packages/optuna/study/_optimize.py:66\u001b[0m, in \u001b[0;36m_optimize\u001b[0;34m(study, func, n_trials, timeout, n_jobs, catch, callbacks, gc_after_trial, show_progress_bar)\u001b[0m\n\u001b[1;32m     64\u001b[0m \u001b[39mtry\u001b[39;00m:\n\u001b[1;32m     65\u001b[0m     \u001b[39mif\u001b[39;00m n_jobs \u001b[39m==\u001b[39m \u001b[39m1\u001b[39m:\n\u001b[0;32m---> 66\u001b[0m         _optimize_sequential(\n\u001b[1;32m     67\u001b[0m             study,\n\u001b[1;32m     68\u001b[0m             func,\n\u001b[1;32m     69\u001b[0m             n_trials,\n\u001b[1;32m     70\u001b[0m             timeout,\n\u001b[1;32m     71\u001b[0m             catch,\n\u001b[1;32m     72\u001b[0m             callbacks,\n\u001b[1;32m     73\u001b[0m             gc_after_trial,\n\u001b[1;32m     74\u001b[0m             reseed_sampler_rng\u001b[39m=\u001b[39m\u001b[39mFalse\u001b[39;00m,\n\u001b[1;32m     75\u001b[0m             time_start\u001b[39m=\u001b[39m\u001b[39mNone\u001b[39;00m,\n\u001b[1;32m     76\u001b[0m             progress_bar\u001b[39m=\u001b[39mprogress_bar,\n\u001b[1;32m     77\u001b[0m         )\n\u001b[1;32m     78\u001b[0m     \u001b[39melse\u001b[39;00m:\n\u001b[1;32m     79\u001b[0m         \u001b[39mif\u001b[39;00m n_jobs \u001b[39m==\u001b[39m \u001b[39m-\u001b[39m\u001b[39m1\u001b[39m:\n",
      "File \u001b[0;32m/Library/Frameworks/Python.framework/Versions/3.11/lib/python3.11/site-packages/optuna/study/_optimize.py:163\u001b[0m, in \u001b[0;36m_optimize_sequential\u001b[0;34m(study, func, n_trials, timeout, catch, callbacks, gc_after_trial, reseed_sampler_rng, time_start, progress_bar)\u001b[0m\n\u001b[1;32m    160\u001b[0m         \u001b[39mbreak\u001b[39;00m\n\u001b[1;32m    162\u001b[0m \u001b[39mtry\u001b[39;00m:\n\u001b[0;32m--> 163\u001b[0m     frozen_trial \u001b[39m=\u001b[39m _run_trial(study, func, catch)\n\u001b[1;32m    164\u001b[0m \u001b[39mfinally\u001b[39;00m:\n\u001b[1;32m    165\u001b[0m     \u001b[39m# The following line mitigates memory problems that can be occurred in some\u001b[39;00m\n\u001b[1;32m    166\u001b[0m     \u001b[39m# environments (e.g., services that use computing containers such as GitHub Actions).\u001b[39;00m\n\u001b[1;32m    167\u001b[0m     \u001b[39m# Please refer to the following PR for further details:\u001b[39;00m\n\u001b[1;32m    168\u001b[0m     \u001b[39m# https://github.com/optuna/optuna/pull/325.\u001b[39;00m\n\u001b[1;32m    169\u001b[0m     \u001b[39mif\u001b[39;00m gc_after_trial:\n",
      "File \u001b[0;32m/Library/Frameworks/Python.framework/Versions/3.11/lib/python3.11/site-packages/optuna/study/_optimize.py:251\u001b[0m, in \u001b[0;36m_run_trial\u001b[0;34m(study, func, catch)\u001b[0m\n\u001b[1;32m    244\u001b[0m         \u001b[39massert\u001b[39;00m \u001b[39mFalse\u001b[39;00m, \u001b[39m\"\u001b[39m\u001b[39mShould not reach.\u001b[39m\u001b[39m\"\u001b[39m\n\u001b[1;32m    246\u001b[0m \u001b[39mif\u001b[39;00m (\n\u001b[1;32m    247\u001b[0m     frozen_trial\u001b[39m.\u001b[39mstate \u001b[39m==\u001b[39m TrialState\u001b[39m.\u001b[39mFAIL\n\u001b[1;32m    248\u001b[0m     \u001b[39mand\u001b[39;00m func_err \u001b[39mis\u001b[39;00m \u001b[39mnot\u001b[39;00m \u001b[39mNone\u001b[39;00m\n\u001b[1;32m    249\u001b[0m     \u001b[39mand\u001b[39;00m \u001b[39mnot\u001b[39;00m \u001b[39misinstance\u001b[39m(func_err, catch)\n\u001b[1;32m    250\u001b[0m ):\n\u001b[0;32m--> 251\u001b[0m     \u001b[39mraise\u001b[39;00m func_err\n\u001b[1;32m    252\u001b[0m \u001b[39mreturn\u001b[39;00m frozen_trial\n",
      "File \u001b[0;32m/Library/Frameworks/Python.framework/Versions/3.11/lib/python3.11/site-packages/optuna/study/_optimize.py:200\u001b[0m, in \u001b[0;36m_run_trial\u001b[0;34m(study, func, catch)\u001b[0m\n\u001b[1;32m    198\u001b[0m \u001b[39mwith\u001b[39;00m get_heartbeat_thread(trial\u001b[39m.\u001b[39m_trial_id, study\u001b[39m.\u001b[39m_storage):\n\u001b[1;32m    199\u001b[0m     \u001b[39mtry\u001b[39;00m:\n\u001b[0;32m--> 200\u001b[0m         value_or_values \u001b[39m=\u001b[39m func(trial)\n\u001b[1;32m    201\u001b[0m     \u001b[39mexcept\u001b[39;00m exceptions\u001b[39m.\u001b[39mTrialPruned \u001b[39mas\u001b[39;00m e:\n\u001b[1;32m    202\u001b[0m         \u001b[39m# TODO(mamu): Handle multi-objective cases.\u001b[39;00m\n\u001b[1;32m    203\u001b[0m         state \u001b[39m=\u001b[39m TrialState\u001b[39m.\u001b[39mPRUNED\n",
      "\u001b[1;32m/Users/kimhakhyun/Desktop/Git/kaggle_playground/Kaggle_Playground/code/train.ipynb 셀 5\u001b[0m line \u001b[0;36mxgb_objective\u001b[0;34m(trial)\u001b[0m\n\u001b[1;32m     <a href='vscode-notebook-cell:/Users/kimhakhyun/Desktop/Git/kaggle_playground/Kaggle_Playground/code/train.ipynb#W4sZmlsZQ%3D%3D?line=33'>34</a>\u001b[0m X_train, X_val \u001b[39m=\u001b[39m X\u001b[39m.\u001b[39miloc[train_index], X\u001b[39m.\u001b[39miloc[val_index]\n\u001b[1;32m     <a href='vscode-notebook-cell:/Users/kimhakhyun/Desktop/Git/kaggle_playground/Kaggle_Playground/code/train.ipynb#W4sZmlsZQ%3D%3D?line=34'>35</a>\u001b[0m y_train, y_val \u001b[39m=\u001b[39m y\u001b[39m.\u001b[39miloc[train_index], y\u001b[39m.\u001b[39miloc[val_index]\n\u001b[0;32m---> <a href='vscode-notebook-cell:/Users/kimhakhyun/Desktop/Git/kaggle_playground/Kaggle_Playground/code/train.ipynb#W4sZmlsZQ%3D%3D?line=36'>37</a>\u001b[0m model\u001b[39m.\u001b[39mfit(X_train,\n\u001b[1;32m     <a href='vscode-notebook-cell:/Users/kimhakhyun/Desktop/Git/kaggle_playground/Kaggle_Playground/code/train.ipynb#W4sZmlsZQ%3D%3D?line=37'>38</a>\u001b[0m           y_train,\n\u001b[1;32m     <a href='vscode-notebook-cell:/Users/kimhakhyun/Desktop/Git/kaggle_playground/Kaggle_Playground/code/train.ipynb#W4sZmlsZQ%3D%3D?line=38'>39</a>\u001b[0m           eval_set \u001b[39m=\u001b[39m [(X_val, y_val)],\n\u001b[1;32m     <a href='vscode-notebook-cell:/Users/kimhakhyun/Desktop/Git/kaggle_playground/Kaggle_Playground/code/train.ipynb#W4sZmlsZQ%3D%3D?line=39'>40</a>\u001b[0m           verbose \u001b[39m=\u001b[39m \u001b[39m0\u001b[39m)\n\u001b[1;32m     <a href='vscode-notebook-cell:/Users/kimhakhyun/Desktop/Git/kaggle_playground/Kaggle_Playground/code/train.ipynb#W4sZmlsZQ%3D%3D?line=41'>42</a>\u001b[0m best_iteration \u001b[39m=\u001b[39m model\u001b[39m.\u001b[39mget_booster()\u001b[39m.\u001b[39mbest_ntree_limit\n\u001b[1;32m     <a href='vscode-notebook-cell:/Users/kimhakhyun/Desktop/Git/kaggle_playground/Kaggle_Playground/code/train.ipynb#W4sZmlsZQ%3D%3D?line=43'>44</a>\u001b[0m y_pred_proba \u001b[39m=\u001b[39m model\u001b[39m.\u001b[39mpredict_proba(X_val, ntree_limit\u001b[39m=\u001b[39mbest_iteration)[:,\u001b[39m1\u001b[39m]\n",
      "File \u001b[0;32m/Library/Frameworks/Python.framework/Versions/3.11/lib/python3.11/site-packages/xgboost/core.py:620\u001b[0m, in \u001b[0;36mrequire_keyword_args.<locals>.throw_if.<locals>.inner_f\u001b[0;34m(*args, **kwargs)\u001b[0m\n\u001b[1;32m    618\u001b[0m \u001b[39mfor\u001b[39;00m k, arg \u001b[39min\u001b[39;00m \u001b[39mzip\u001b[39m(sig\u001b[39m.\u001b[39mparameters, args):\n\u001b[1;32m    619\u001b[0m     kwargs[k] \u001b[39m=\u001b[39m arg\n\u001b[0;32m--> 620\u001b[0m \u001b[39mreturn\u001b[39;00m func(\u001b[39m*\u001b[39m\u001b[39m*\u001b[39mkwargs)\n",
      "File \u001b[0;32m/Library/Frameworks/Python.framework/Versions/3.11/lib/python3.11/site-packages/xgboost/sklearn.py:1490\u001b[0m, in \u001b[0;36mXGBClassifier.fit\u001b[0;34m(self, X, y, sample_weight, base_margin, eval_set, eval_metric, early_stopping_rounds, verbose, xgb_model, sample_weight_eval_set, base_margin_eval_set, feature_weights, callbacks)\u001b[0m\n\u001b[1;32m   1462\u001b[0m (\n\u001b[1;32m   1463\u001b[0m     model,\n\u001b[1;32m   1464\u001b[0m     metric,\n\u001b[0;32m   (...)\u001b[0m\n\u001b[1;32m   1469\u001b[0m     xgb_model, eval_metric, params, early_stopping_rounds, callbacks\n\u001b[1;32m   1470\u001b[0m )\n\u001b[1;32m   1471\u001b[0m train_dmatrix, evals \u001b[39m=\u001b[39m _wrap_evaluation_matrices(\n\u001b[1;32m   1472\u001b[0m     missing\u001b[39m=\u001b[39m\u001b[39mself\u001b[39m\u001b[39m.\u001b[39mmissing,\n\u001b[1;32m   1473\u001b[0m     X\u001b[39m=\u001b[39mX,\n\u001b[0;32m   (...)\u001b[0m\n\u001b[1;32m   1487\u001b[0m     feature_types\u001b[39m=\u001b[39m\u001b[39mself\u001b[39m\u001b[39m.\u001b[39mfeature_types,\n\u001b[1;32m   1488\u001b[0m )\n\u001b[0;32m-> 1490\u001b[0m \u001b[39mself\u001b[39m\u001b[39m.\u001b[39m_Booster \u001b[39m=\u001b[39m train(\n\u001b[1;32m   1491\u001b[0m     params,\n\u001b[1;32m   1492\u001b[0m     train_dmatrix,\n\u001b[1;32m   1493\u001b[0m     \u001b[39mself\u001b[39m\u001b[39m.\u001b[39mget_num_boosting_rounds(),\n\u001b[1;32m   1494\u001b[0m     evals\u001b[39m=\u001b[39mevals,\n\u001b[1;32m   1495\u001b[0m     early_stopping_rounds\u001b[39m=\u001b[39mearly_stopping_rounds,\n\u001b[1;32m   1496\u001b[0m     evals_result\u001b[39m=\u001b[39mevals_result,\n\u001b[1;32m   1497\u001b[0m     obj\u001b[39m=\u001b[39mobj,\n\u001b[1;32m   1498\u001b[0m     custom_metric\u001b[39m=\u001b[39mmetric,\n\u001b[1;32m   1499\u001b[0m     verbose_eval\u001b[39m=\u001b[39mverbose,\n\u001b[1;32m   1500\u001b[0m     xgb_model\u001b[39m=\u001b[39mmodel,\n\u001b[1;32m   1501\u001b[0m     callbacks\u001b[39m=\u001b[39mcallbacks,\n\u001b[1;32m   1502\u001b[0m )\n\u001b[1;32m   1504\u001b[0m \u001b[39mif\u001b[39;00m \u001b[39mnot\u001b[39;00m callable(\u001b[39mself\u001b[39m\u001b[39m.\u001b[39mobjective):\n\u001b[1;32m   1505\u001b[0m     \u001b[39mself\u001b[39m\u001b[39m.\u001b[39mobjective \u001b[39m=\u001b[39m params[\u001b[39m\"\u001b[39m\u001b[39mobjective\u001b[39m\u001b[39m\"\u001b[39m]\n",
      "File \u001b[0;32m/Library/Frameworks/Python.framework/Versions/3.11/lib/python3.11/site-packages/xgboost/core.py:620\u001b[0m, in \u001b[0;36mrequire_keyword_args.<locals>.throw_if.<locals>.inner_f\u001b[0;34m(*args, **kwargs)\u001b[0m\n\u001b[1;32m    618\u001b[0m \u001b[39mfor\u001b[39;00m k, arg \u001b[39min\u001b[39;00m \u001b[39mzip\u001b[39m(sig\u001b[39m.\u001b[39mparameters, args):\n\u001b[1;32m    619\u001b[0m     kwargs[k] \u001b[39m=\u001b[39m arg\n\u001b[0;32m--> 620\u001b[0m \u001b[39mreturn\u001b[39;00m func(\u001b[39m*\u001b[39m\u001b[39m*\u001b[39mkwargs)\n",
      "File \u001b[0;32m/Library/Frameworks/Python.framework/Versions/3.11/lib/python3.11/site-packages/xgboost/training.py:185\u001b[0m, in \u001b[0;36mtrain\u001b[0;34m(params, dtrain, num_boost_round, evals, obj, feval, maximize, early_stopping_rounds, evals_result, verbose_eval, xgb_model, callbacks, custom_metric)\u001b[0m\n\u001b[1;32m    183\u001b[0m \u001b[39mif\u001b[39;00m cb_container\u001b[39m.\u001b[39mbefore_iteration(bst, i, dtrain, evals):\n\u001b[1;32m    184\u001b[0m     \u001b[39mbreak\u001b[39;00m\n\u001b[0;32m--> 185\u001b[0m bst\u001b[39m.\u001b[39mupdate(dtrain, i, obj)\n\u001b[1;32m    186\u001b[0m \u001b[39mif\u001b[39;00m cb_container\u001b[39m.\u001b[39mafter_iteration(bst, i, dtrain, evals):\n\u001b[1;32m    187\u001b[0m     \u001b[39mbreak\u001b[39;00m\n",
      "File \u001b[0;32m/Library/Frameworks/Python.framework/Versions/3.11/lib/python3.11/site-packages/xgboost/core.py:1918\u001b[0m, in \u001b[0;36mBooster.update\u001b[0;34m(self, dtrain, iteration, fobj)\u001b[0m\n\u001b[1;32m   1915\u001b[0m \u001b[39mself\u001b[39m\u001b[39m.\u001b[39m_validate_dmatrix_features(dtrain)\n\u001b[1;32m   1917\u001b[0m \u001b[39mif\u001b[39;00m fobj \u001b[39mis\u001b[39;00m \u001b[39mNone\u001b[39;00m:\n\u001b[0;32m-> 1918\u001b[0m     _check_call(_LIB\u001b[39m.\u001b[39mXGBoosterUpdateOneIter(\u001b[39mself\u001b[39m\u001b[39m.\u001b[39mhandle,\n\u001b[1;32m   1919\u001b[0m                                             ctypes\u001b[39m.\u001b[39mc_int(iteration),\n\u001b[1;32m   1920\u001b[0m                                             dtrain\u001b[39m.\u001b[39mhandle))\n\u001b[1;32m   1921\u001b[0m \u001b[39melse\u001b[39;00m:\n\u001b[1;32m   1922\u001b[0m     pred \u001b[39m=\u001b[39m \u001b[39mself\u001b[39m\u001b[39m.\u001b[39mpredict(dtrain, output_margin\u001b[39m=\u001b[39m\u001b[39mTrue\u001b[39;00m, training\u001b[39m=\u001b[39m\u001b[39mTrue\u001b[39;00m)\n",
      "\u001b[0;31mKeyboardInterrupt\u001b[0m: "
     ]
    }
   ],
   "source": [
    "xgb_study = optimize_hyperparameters(xgb_objective, 10)"
   ]
  },
  {
   "cell_type": "code",
   "execution_count": 42,
   "metadata": {},
   "outputs": [],
   "source": [
    "best_xgb_hyperparams =  {\n",
    "    'n_estimators'          : 2048,\n",
    "    'max_depth'             : 9,\n",
    "    'learning_rate'         : 0.05,\n",
    "    'booster'               : 'gbtree',\n",
    "    'subsample'             : 0.75,\n",
    "    'colsample_bytree'      : 0.30,\n",
    "    'reg_lambda'            : 1.00,\n",
    "    'reg_alpha'             : 1.00,\n",
    "    'gamma'                 : 1.00,\n",
    "    'random_state'          : SEED,\n",
    "    'objective'             : 'binary:logistic',\n",
    "    'tree_method'           : 'hist',\n",
    "    'eval_metric'           : 'auc',\n",
    "    'n_jobs'                : -1\n",
    "}"
   ]
  },
  {
   "cell_type": "markdown",
   "metadata": {},
   "source": [
    "## CatBoost"
   ]
  },
  {
   "cell_type": "code",
   "execution_count": null,
   "metadata": {},
   "outputs": [],
   "source": [
    "def cb_objective(trial):\n",
    "    hyperparams = {\n",
    "        'iterations': trial.suggest_int('iterations', 500, 750),\n",
    "        'depth': trial.suggest_int('depth', 3, 10),\n",
    "        'learning_rate': trial.suggest_float('learning_rate', 1e-4, 0.2, log=True),\n",
    "        'random_strength': trial.suggest_int('random_strength', 0, 100),\n",
    "        'bagging_temperature': trial.suggest_float('bagging_temperature', 0, 1),\n",
    "        'l2_leaf_reg': trial.suggest_int('l2_leaf_reg', 3, 30),\n",
    "        'border_count': trial.suggest_int('border_count', 32, 255),\n",
    "        'scale_pos_weight': trial.suggest_float('scale_pos_weight', 0.01, 1.0),\n",
    "    }\n",
    "    \n",
    "    X = train_df.drop(['target_column'], axis=1)\n",
    "    y = train_df['target_column']\n",
    "    \n",
    "    catboost_model = cb.CatBoostClassifier(**hyperparams, random_seed=SEED)\n",
    "\n",
    "    folds = joblib.load('../data/fold/5_stratifiedkfolds.jl')\n",
    "    fold_aucs = []\n",
    "    \n",
    "    for fold, (train_index, val_index) in enumerate(folds):\n",
    "        print(f'Fold {fold} Training: ...\\n')\n",
    "        X_train, X_val = X.iloc[train_index], X.iloc[val_index]\n",
    "        y_train, y_val = y.iloc[train_index], y.iloc[val_index]\n",
    "\n",
    "        catboost_model.fit(X_train, y_train)\n",
    "        \n",
    "        y_pred = catboost_model.predict_proba(X_val)[:, 1]\n",
    "        \n",
    "        fold_auc = roc_auc_score(y_val, y_pred)\n",
    "        fold_aucs.append(fold_auc)\n",
    "\n",
    "    fold_auc_mean = sum(fold_aucs) / len(fold_aucs)\n",
    "\n",
    "    print(\"AUCs:\", fold_aucs)\n",
    "    print(\"AUC Mean:\", fold_auc_mean)\n",
    "    \n",
    "    return fold_auc_mean"
   ]
  },
  {
   "cell_type": "code",
   "execution_count": null,
   "metadata": {},
   "outputs": [],
   "source": [
    "cb_study = optimize_hyperparameters(cb_objective, 10)"
   ]
  },
  {
   "cell_type": "code",
   "execution_count": null,
   "metadata": {},
   "outputs": [],
   "source": [
    "best_cb_hyperparams =  {\n",
    "    'n_estimators'          : 2048,\n",
    "    'max_depth'             : 9,\n",
    "    'learning_rate'         : 0.05,\n",
    "    'booster'               : 'gbtree',\n",
    "    'subsample'             : 0.75,\n",
    "    'colsample_bytree'      : 0.30,\n",
    "    'reg_lambda'            : 1.00,\n",
    "    'reg_alpha'             : 1.00,\n",
    "    'gamma'                 : 1.00,\n",
    "    'random_state'          : SEED,\n",
    "    'objective'             : 'binary:logistic',\n",
    "    'tree_method'           : 'hist',\n",
    "    'eval_metric'           : 'auc',\n",
    "    'n_jobs'                : -1\n",
    "}"
   ]
  },
  {
   "cell_type": "markdown",
   "metadata": {},
   "source": [
    "# train"
   ]
  },
  {
   "cell_type": "code",
   "execution_count": null,
   "metadata": {},
   "outputs": [],
   "source": [
    "X_train = train_df.drop(['smoking'], axis=1)\n",
    "y_train = train_df['smoking']\n",
    "X_test = test_df.drop(['smoking'], axis=1)"
   ]
  },
  {
   "cell_type": "code",
   "execution_count": null,
   "metadata": {},
   "outputs": [],
   "source": [
    "models = [\n",
    "    lgb.LGBMClassifier(**best_lgbm_hyperparams, random_state=SEED),\n",
    "    xgb.XGBClassifier(**best_xgb_hyperparams, random_state=SEED),\n",
    "    cb.CatBoostClassifier(**best_cb_hyperparams, random_state=SEED),\n",
    "]\n",
    "num_models = len(models)"
   ]
  },
  {
   "cell_type": "code",
   "execution_count": null,
   "metadata": {},
   "outputs": [],
   "source": [
    "folds = joblib.load('../data/fold/5_stratifiedkfolds.jl')\n",
    "num_folds = 5"
   ]
  },
  {
   "cell_type": "code",
   "execution_count": null,
   "metadata": {},
   "outputs": [],
   "source": [
    "train_preds = np.zeros((len(X_train), num_models))\n",
    "test_preds = np.zeros((len(X_test), num_models))\n",
    "\n",
    "for fold_idx, (t_idx, v_idx) in enumerate(folds):\n",
    "    print(f'Fold {fold_idx} Training: ...\\n')\n",
    "    X_t, X_v = X_train.iloc[t_idx], X_train.iloc[v_idx]\n",
    "    y_t, y_v = y_train.iloc[t_idx], y_train.iloc[v_idx]\n",
    "\n",
    "    for model_idx, model in enumerate(models):\n",
    "        print(f'Model {model_idx} Training: ...\\n')\n",
    "        model.fit(X_t, y_t)\n",
    "\n",
    "        print(f'Model {model_idx} Predicting: ...\\n')\n",
    "        train_pred = model.predict_proba(X_v)[:, 1]\n",
    "        test_pred = model.predict_proba(X_test)[:, 1]\n",
    "        train_preds[v_idx:, model_idx] = train_pred\n",
    "        test_preds[:, model_idx] += test_pred / num_folds"
   ]
  },
  {
   "cell_type": "code",
   "execution_count": null,
   "metadata": {},
   "outputs": [],
   "source": [
    "for model_idx in range(num_models):\n",
    "    print(f'Model {model_idx} AUC: = {roc_auc_score(y_train, train_preds[:, model_idx])}')"
   ]
  },
  {
   "cell_type": "markdown",
   "metadata": {},
   "source": [
    "## best model"
   ]
  },
  {
   "cell_type": "code",
   "execution_count": null,
   "metadata": {},
   "outputs": [],
   "source": [
    "best_model_score = float('-inf')\n",
    "best_model_idx = None\n",
    "\n",
    "for model_idx in range(num_models):\n",
    "    model_score = roc_auc_score(y_train, train_preds[:, model_idx])\n",
    "    if model_score > best_score:\n",
    "        best_score = model_score\n",
    "        best_model_idx = model_idx\n",
    "\n",
    "print(f'Best Model: {best_model_idx}')\n",
    "print(f'Best Score: {best_score}')"
   ]
  },
  {
   "cell_type": "markdown",
   "metadata": {},
   "source": [
    "## average"
   ]
  },
  {
   "cell_type": "code",
   "execution_count": null,
   "metadata": {},
   "outputs": [],
   "source": [
    "average_score = roc_auc_score(y_train, train_preds.mean(axis = 1))\n",
    "\n",
    "print(f'Average Score: {average_score}')"
   ]
  },
  {
   "cell_type": "markdown",
   "metadata": {},
   "source": [
    "## weighted average"
   ]
  },
  {
   "cell_type": "code",
   "execution_count": null,
   "metadata": {},
   "outputs": [],
   "source": [
    "best_score = float('-inf')\n",
    "worst_score = float('inf')\n",
    "\n",
    "for model_idx in range(num_models):\n",
    "    globals()[f'model_{model_idx}_score'] = roc_auc_score(y_train, train_preds[:, model_idx])\n",
    "    if globals()[f'model_{model_idx}_score'] > best_score:\n",
    "        best_score = globals()[f'model_{model_idx}score']\n",
    "    if globals()[f'model_{model_idx}_score'] < worst_score:\n",
    "        worst_score = globals()[f'model_{model_idx}score']\n",
    "\n",
    "total_weights = 0\n",
    "for model_idx in range(num_models):\n",
    "    globals()[f'model_{model_idx}_weight'] = 1 - ((best_score-globals()[f'model_{model_idx}_score'])/(best_score-(worst_score-0.01)))\n",
    "    total_weights += globals()[f'model_{model_idx}_weight']\n",
    "\n",
    "weighted_average_train_preds = train_preds.copy()\n",
    "for model_idx in range(num_models):\n",
    "    weighted_average_train_preds[:, model_idx] = weighted_average_train_preds[:, model_idx] * globals()[f'model_{model_idx}_weight']\n",
    "\n",
    "weighted_average_score = np.sum(weighted_average_train_preds, axis=1) / total_weights\n",
    "\n",
    "print(f'Weighted Average Score: {weighted_average_score}')"
   ]
  },
  {
   "cell_type": "markdown",
   "metadata": {},
   "source": [
    "## stacking"
   ]
  },
  {
   "cell_type": "code",
   "execution_count": null,
   "metadata": {},
   "outputs": [],
   "source": [
    "X_train_new = np.hstack((X_train, OOF_PREDS))"
   ]
  },
  {
   "cell_type": "code",
   "execution_count": null,
   "metadata": {},
   "outputs": [],
   "source": [
    "OOF_PREDS_v2 = np.zeros((len(X_train_new), N_MODELS))\n",
    "HOLD_PREDS_v2 = np.zeros((len(X_valid_new), N_MODELS))\n",
    "TEST_PREDS_v2 = np.zeros((len(X_test_new), N_MODELS))\n",
    "\n",
    "for fold, (tr_index, val_index) in enumerate(skf.split(y_train, y_train)):\n",
    "    print('Start fold {}'.format(fold))\n",
    "    \n",
    "    # Select train and valid\n",
    "    X_tr, X_v = X_train_new[tr_index, :], X_train_new[val_index, :]\n",
    "    y_tr, y_v = y_train[tr_index], y_train[val_index]\n",
    "    \n",
    "    # Models to use\n",
    "    models = [\n",
    "        RandomForestClassifier(n_estimators=100, n_jobs=-1)\n",
    "    ]\n",
    "    \n",
    "    # Training-prediction cycle \n",
    "    for i, model in enumerate(models):\n",
    "        print('\\tModel {} training'.format(i))\n",
    "        model.fit(X_tr, y_tr)\n",
    "        \n",
    "        print('\\tModel {} prediction'.format(i))\n",
    "        val_pred = model.predict_proba(X_v)[:, 1]\n",
    "        hold_pred = model.predict_proba(X_valid_new)[:, 1]\n",
    "        test_pred = model.predict_proba(X_test_new)[:, 1]\n",
    "        \n",
    "        print('\\tModel {} scores:'.format(i))\n",
    "        print('\\t\\tValid score = {:.5f}'.format(roc_auc_score(y_v, val_pred)))\n",
    "        print('\\t\\tHoldout score = {:.5f}'.format(roc_auc_score(y_valid, hold_pred)))\n",
    "        \n",
    "        OOF_PREDS_v2[val_index, i] = val_pred\n",
    "        HOLD_PREDS_v2[:, i] += hold_pred / N_FOLDS\n",
    "        TEST_PREDS_v2[:, i] += test_pred / N_FOLDS\n",
    "        \n",
    "    print('='*30)\n",
    "        \n",
    "for i in range(N_MODELS):\n",
    "    print('Model {} scores:'.format(i))\n",
    "    print('\\tOOF score = {:.5f}'.format(roc_auc_score(y_train, OOF_PREDS_v2[:, i])))\n",
    "    print('\\tHoldout score = {:.5f}'.format(roc_auc_score(y_valid, HOLD_PREDS_v2[:, i])))"
   ]
  },
  {
   "cell_type": "markdown",
   "metadata": {},
   "source": [
    "## result"
   ]
  },
  {
   "cell_type": "code",
   "execution_count": null,
   "metadata": {},
   "outputs": [],
   "source": [
    "pd.DataFrame(\n",
    "    columns=['best model', 'average', 'weighted average', 'stacking'],\n",
    "    data=[best_model_score, average_score, weighted_average_score, stacking_score]\n",
    ")"
   ]
  },
  {
   "cell_type": "markdown",
   "metadata": {},
   "source": [
    "# predict"
   ]
  },
  {
   "cell_type": "markdown",
   "metadata": {},
   "source": [
    "# submit"
   ]
  },
  {
   "cell_type": "code",
   "execution_count": 44,
   "metadata": {},
   "outputs": [],
   "source": [
    "submission_df = pd.read_csv('../submission/sample_submission.csv')\n",
    "submission_df['smoking'] = y_pred\n",
    "submission_df.to_csv(f'../submission/{final_model}_submission.csv', index = False)"
   ]
  },
  {
   "cell_type": "markdown",
   "metadata": {},
   "source": [
    "# pseudo-labels"
   ]
  },
  {
   "cell_type": "code",
   "execution_count": 45,
   "metadata": {},
   "outputs": [],
   "source": [
    "def make_pseudo_set(cutoff):\n",
    "    test_df['pred'] = y_pred\n",
    "\n",
    "    pseudo_set_1 = test_df[test_df['pred'] > cutoff]\n",
    "    pseudo_set_1['smoking'] = 1\n",
    "    pseudo_set_1.drop(['pred'], axis=1, inplace=True)\n",
    "\n",
    "    pseudo_set_2 = test_df[test_df['pred'] < 1-cutoff]\n",
    "    pseudo_set_2['smoking'] = 0\n",
    "    pseudo_set_2.drop(['pred'], axis=1, inplace=True)\n",
    "\n",
    "    pseudo_df = pd.concat([pseudo_set_1,pseudo_set_2])\n",
    "\n",
    "    return pseudo_df"
   ]
  },
  {
   "cell_type": "code",
   "execution_count": 50,
   "metadata": {},
   "outputs": [
    {
     "name": "stderr",
     "output_type": "stream",
     "text": [
      "/var/folders/xj/_swws2td1j333fqkjhr5tmjr0000gn/T/ipykernel_1638/3209239824.py:5: SettingWithCopyWarning: \n",
      "A value is trying to be set on a copy of a slice from a DataFrame.\n",
      "Try using .loc[row_indexer,col_indexer] = value instead\n",
      "\n",
      "See the caveats in the documentation: https://pandas.pydata.org/pandas-docs/stable/user_guide/indexing.html#returning-a-view-versus-a-copy\n",
      "  pseudo_set_1['smoking'] = 1\n",
      "/var/folders/xj/_swws2td1j333fqkjhr5tmjr0000gn/T/ipykernel_1638/3209239824.py:6: SettingWithCopyWarning: \n",
      "A value is trying to be set on a copy of a slice from a DataFrame\n",
      "\n",
      "See the caveats in the documentation: https://pandas.pydata.org/pandas-docs/stable/user_guide/indexing.html#returning-a-view-versus-a-copy\n",
      "  pseudo_set_1.drop(columns=['pred'], axis = 1, inplace=True)\n",
      "/var/folders/xj/_swws2td1j333fqkjhr5tmjr0000gn/T/ipykernel_1638/3209239824.py:9: SettingWithCopyWarning: \n",
      "A value is trying to be set on a copy of a slice from a DataFrame.\n",
      "Try using .loc[row_indexer,col_indexer] = value instead\n",
      "\n",
      "See the caveats in the documentation: https://pandas.pydata.org/pandas-docs/stable/user_guide/indexing.html#returning-a-view-versus-a-copy\n",
      "  pseudo_set_2['smoking'] = 0\n",
      "/var/folders/xj/_swws2td1j333fqkjhr5tmjr0000gn/T/ipykernel_1638/3209239824.py:10: SettingWithCopyWarning: \n",
      "A value is trying to be set on a copy of a slice from a DataFrame\n",
      "\n",
      "See the caveats in the documentation: https://pandas.pydata.org/pandas-docs/stable/user_guide/indexing.html#returning-a-view-versus-a-copy\n",
      "  pseudo_set_2.drop(columns=['pred'], axis = 1, inplace=True)\n"
     ]
    }
   ],
   "source": [
    "pseudo_df = make_pseudo_set(0.95)\n",
    "pseudo_train_df = pd.concat([train_df, pseudo_df])\n",
    "\n",
    "X_pseudo_train = pseudo_train_df.drop(['smoking'], axis=1)\n",
    "y_pseudo_train = pseudo_train_df['smoking']\n",
    " \n",
    "pseudo_model = xgb.XGBClassifier(**best_xgb_hyperparams)\n",
    "pseudo_model.fit(X_pseudo_train, y_pseudo_train)\n",
    "\n",
    "submission_df = pd.read_csv('../submission/sample_submission.csv')\n",
    "submission_df['smoking'] =  pseudo_model.predict_proba(test_df.drop(['smoking'], axis=1))[:,1]\n",
    "submission_df.to_csv('../submission/pseudo_xgb_submission.csv', index=False)"
   ]
  }
 ],
 "metadata": {
  "kernelspec": {
   "display_name": "Python 3",
   "language": "python",
   "name": "python3"
  },
  "language_info": {
   "codemirror_mode": {
    "name": "ipython",
    "version": 3
   },
   "file_extension": ".py",
   "mimetype": "text/x-python",
   "name": "python",
   "nbconvert_exporter": "python",
   "pygments_lexer": "ipython3",
   "version": "3.11.4"
  }
 },
 "nbformat": 4,
 "nbformat_minor": 2
}
