{
 "cells": [
  {
   "cell_type": "code",
   "execution_count": 3,
   "metadata": {},
   "outputs": [],
   "source": [
    "import pandas as pd\n",
    "\n",
    "from sklearn.model_selection import StratifiedKFold\n",
    "import joblib\n",
    "\n",
    "RANDOM_SEED = 578"
   ]
  },
  {
   "cell_type": "code",
   "execution_count": 4,
   "metadata": {},
   "outputs": [],
   "source": [
    "train_df = pd.read_csv('../data/train.csv', index_col=0)"
   ]
  },
  {
   "cell_type": "markdown",
   "metadata": {},
   "source": [
    "# outliers"
   ]
  },
  {
   "cell_type": "code",
   "execution_count": null,
   "metadata": {},
   "outputs": [],
   "source": [
    "def handle_outliers(df,col):\n",
    "    percentile_25 = df[col].quantile(0.25)\n",
    "    percentile_75 = df[col].quantile(0.75)\n",
    "\n",
    "    iqr = percentile_75 - percentile_25\n",
    "\n",
    "    upper_limit = percentile_75 + 1.5 * iqr\n",
    "    lower_limit = percentile_25 - 1.5 * iqr\n",
    "\n",
    "    df.loc[df[col] > upper_limit, col] = upper_limit\n",
    "    df.loc[df[col] < lower_limit, col] = lower_limit\n",
    "\n",
    "    return df\n",
    "\n",
    "outlier_cols = [\n",
    "    'height(cm)',\n",
    "    'weight(kg)',\n",
    "    'waist(cm)',\n",
    "    'eyesight(left)',\n",
    "    'eyesight(right)',\n",
    "    'systolic',\n",
    "    'relaxation',\n",
    "    'fasting blood sugar',\n",
    "    'Cholesterol',\n",
    "    'triglyceride',\n",
    "    'HDL',\n",
    "    'LDL',\n",
    "    'hemoglobin',\n",
    "    'serum creatinine',\n",
    "    'AST',\n",
    "    'ALT',\n",
    "    'Gtp',\n",
    "]"
   ]
  },
  {
   "cell_type": "markdown",
   "metadata": {},
   "source": [
    "# folds"
   ]
  },
  {
   "cell_type": "code",
   "execution_count": 5,
   "metadata": {},
   "outputs": [],
   "source": [
    "def save_stratifiedkfolds(df, n_splits):\n",
    "    folds = list(StratifiedKFold(n_splits=n_splits, shuffle=True, random_state=RANDOM_SEED).split(df, df['smoking']))\n",
    "    joblib.dump(folds, f'../data/fold/{n_splits}_stratifiedkfolds.jl')\n",
    "\n",
    "save_stratifiedkfolds(train_df, 5)"
   ]
  }
 ],
 "metadata": {
  "kernelspec": {
   "display_name": "Python 3",
   "language": "python",
   "name": "python3"
  },
  "language_info": {
   "codemirror_mode": {
    "name": "ipython",
    "version": 3
   },
   "file_extension": ".py",
   "mimetype": "text/x-python",
   "name": "python",
   "nbconvert_exporter": "python",
   "pygments_lexer": "ipython3",
   "version": "3.11.4"
  }
 },
 "nbformat": 4,
 "nbformat_minor": 2
}
